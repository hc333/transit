{
 "cells": [
  {
   "cell_type": "markdown",
   "id": "fbc4def4-dfdc-4935-8f1b-f1bd989a910b",
   "metadata": {},
   "source": [
    "<h1>TRANSIT: An online app to help you navigate around the CTTransit bus system</h1>"
   ]
  },
  {
   "cell_type": "markdown",
   "id": "e0865cdd-6643-4d0c-99db-a14498d7728d",
   "metadata": {},
   "source": [
    "<h2>Welcome to Transit! Transit is an online web app that provides an interact map of the buses run by CTTransit.</h2>"
   ]
  },
  {
   "cell_type": "code",
   "execution_count": null,
   "id": "a8e2a1cf-8eea-4258-a1c5-475e54d3d5af",
   "metadata": {},
   "outputs": [],
   "source": []
  }
 ],
 "metadata": {
  "kernelspec": {
   "display_name": "a330",
   "language": "python",
   "name": "a330"
  },
  "language_info": {
   "codemirror_mode": {
    "name": "ipython",
    "version": 3
   },
   "file_extension": ".py",
   "mimetype": "text/x-python",
   "name": "python",
   "nbconvert_exporter": "python",
   "pygments_lexer": "ipython3",
   "version": "3.8.11"
  }
 },
 "nbformat": 4,
 "nbformat_minor": 5
}
