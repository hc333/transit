{
 "cells": [
  {
   "cell_type": "code",
   "execution_count": 28,
   "id": "2b17b1c6-8bce-4574-9be9-10d7088542d0",
   "metadata": {},
   "outputs": [],
   "source": [
    "from asdf import AsdfFile\n",
    "import asdf\n",
    "import pandas as pd\n",
    "import numpy as np\n",
    "\n",
    "#stop_times = pd.read_csv('stop_times.txt')\n",
    "#stop_times = np.array(stop_times)\n",
    "f = open(\"stop_times.txt\", \"r\")\n",
    "#print(f.read())\n",
    "\n",
    "tree = {'array': f.read()}\n",
    "ff = AsdfFile(tree)\n",
    "ff.write_to(\"stop_times_asdf.asdf\")"
   ]
  },
  {
   "cell_type": "code",
   "execution_count": 69,
   "id": "79bb8f2b-fe18-4853-8112-e3f45edfa76d",
   "metadata": {},
   "outputs": [
    {
     "name": "stdout",
     "output_type": "stream",
     "text": [
      "timepoint\n",
      "12768\n"
     ]
    }
   ],
   "source": [
    "af = asdf.open('stop_times_asdf.asdf')\n",
    "my_list = af.tree['array']\n",
    "n_split = my_list.split('\\n')\n",
    "n_split_comma = [sub.split(',') for sub in n_split]\n",
    "df = pd.DataFrame(data=n_split_comma)"
   ]
  }
 ],
 "metadata": {
  "kernelspec": {
   "display_name": "a330",
   "language": "python",
   "name": "a330"
  },
  "language_info": {
   "codemirror_mode": {
    "name": "ipython",
    "version": 3
   },
   "file_extension": ".py",
   "mimetype": "text/x-python",
   "name": "python",
   "nbconvert_exporter": "python",
   "pygments_lexer": "ipython3",
   "version": "3.8.11"
  }
 },
 "nbformat": 4,
 "nbformat_minor": 5
}
